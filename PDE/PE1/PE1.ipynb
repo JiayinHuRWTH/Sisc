{
 "cells": [
  {
   "cell_type": "code",
   "execution_count": 1,
   "id": "28c9dbdd-bcaf-4d47-994e-48f28fd55a89",
   "metadata": {},
   "outputs": [
    {
     "data": {
      "text/html": [
       "<style>/* container element for the exercise header */\n",
       ".header{\n",
       "    display: flex;\n",
       "}\n",
       "/* formatting each of the flex items in the exercise header */\n",
       ".title{\n",
       "    flex: 1.5;\n",
       "}\n",
       ".title h1{\n",
       "    font-size: 3em;\n",
       "}\n",
       ".authors{\n",
       "    flex: 1.5;\n",
       "    text-align: left;\n",
       "    padding: 3em;\n",
       "    font-family: var(--jp-code-font-family);\n",
       "}\n",
       ".logo {\n",
       "    flex: 2.5;\n",
       "    text-align: right;\n",
       "    font-size: var(--jp-ui-font-size0);\n",
       "}\n",
       "\n",
       "/* exercise formatting */\n",
       ".tasks .points{\n",
       "    padding: 1em;\n",
       "    text-align: right;\n",
       "}\n",
       "\n",
       ".tasks ol{\n",
       "    list-style-type: lower-alpha;\n",
       "    line-height: 150%;\n",
       "}\n",
       "\n",
       ".tasks li{\n",
       "    padding-top: 0.5em;\n",
       "    padding-bottom: 0.5em;\n",
       "}\n",
       "\n",
       ".tasks .alert-block{\n",
       "    float: right;\n",
       "    width: 20em;\n",
       "    color: var(--jp-content-font-color0);\n",
       "    margin-left: 5%;\n",
       "}\n",
       "</style>\n",
       " $$%% vector/tensor formatting\n",
       "\n",
       "\n",
       "%% units and dimensions\n",
       "\\renewcommand{\\unit}[1]{\\,\\mathrm{#1}}\n",
       "\\renewcommand{\\dimension}[1]{\\left[\\mathrm{#1}\\right]}\n",
       "\n",
       "\\renewcommand{\\mum}{\\unit{\\mathnormal{\\mu}m}}\n",
       "\\renewcommand{\\m}{\\unit{m}}\n",
       "\\renewcommand{\\km}{\\unit{km}}\n",
       "\n",
       "\\renewcommand{\\Pa}{\\unit{Pa}}\n",
       "\\renewcommand{\\kPa}{\\unit{kPa}}\n",
       "\\renewcommand{\\MPa}{\\unit{MPa}}\n",
       "\\renewcommand{\\GPa}{\\unit{GPa}}\n",
       "\n",
       "\\renewcommand{\\museconds}{\\unit{\\mathnormal{\\mu}s}}\n",
       "\\renewcommand{\\seconds}{\\unit{s}}\n",
       "\\renewcommand{\\minutes}{\\unit{min}}\n",
       "\\renewcommand{\\hours}{\\unit{hr}}\n",
       "\n",
       "\\renewcommand{\\Hz}{\\unit{Hz}}\n",
       "\\renewcommand{\\kHz}{\\unit{kHz}}\n",
       "\\renewcommand{\\MHz}{\\unit{MHz}}\n",
       "\\renewcommand{\\GHz}{\\unit{GHz}}\n",
       "\n",
       "\\renewcommand{\\gram}{\\unit{g}}\n",
       "\\renewcommand{\\kgram}{\\unit{kg}}\n",
       "\n",
       "\\renewcommand{\\engnum}{\\mathbf{\\tiny{E}}}\n",
       "\n",
       "%% kronecker deltas\n",
       "\\renewcommand{\\kronij}{\\delta_{ij}}\n",
       "\\renewcommand{\\kronmn}{\\delta_{mn}}\n",
       "\\renewcommand{\\kronecker}[1]{\\delta_{#1}}\n",
       "\n",
       "%% epsilon symbol\n",
       "\\renewcommand{\\levcivijk}{\\varepsilon_{ijk}}\n",
       "\\renewcommand{\\levciv}[1]{\\varepsilon_{#1}}\n",
       "\n",
       "%% identity element I\n",
       "\\renewcommand{\\ident}{\\mathcal{I}}\n",
       "\n",
       "%% blackboard shorthand for various number fields\n",
       "\\renewcommand{\\bbR}{\\mathbb{R}}\n",
       "\\renewcommand{\\bbC}{\\mathbb{C}}\n",
       "\\renewcommand{\\bbQ}{\\mathbb{Q}}\n",
       "\\renewcommand{\\bbZ}{\\mathbb{Z}}\n",
       "\\renewcommand{\\bbN}{\\mathbb{N}}\n",
       "\n",
       "\\renewcommand{\\cT}{\\mathcal{T}}\n",
       "\n",
       "%% special functions\n",
       "\\renewcommand{\\heavi}{\\mathbf{H}}\n",
       "\\renewcommand{\\diracd}{\\delta}\n",
       "\n",
       "%% inner product\n",
       "\\renewcommand{\\scalarprod}[2]{\\left\\langle #1\\, ,\\,#2 \\right\\rangle}\n",
       "\n",
       "%% norm\n",
       "\\renewcommand{\\nnorm}[1]{\\left\\|#1\\right\\|}\n",
       " \n",
       "$$"
      ],
      "text/plain": [
       "<IPython.core.display.HTML object>"
      ]
     },
     "execution_count": 1,
     "metadata": {},
     "output_type": "execute_result"
    }
   ],
   "source": [
    "import lib\n",
    "lib.load_styles_and_macros()"
   ]
  },
  {
   "cell_type": "markdown",
   "id": "83da9840-4f34-4431-8c68-47421f53a8dc",
   "metadata": {},
   "source": [
    "<div class=\"header\">\n",
    "    <div class=\"title\">\n",
    "    <h1>Programming Exercise 1</h1>\n",
    "    </div>\n",
    "    <div class=\"authors\">\n",
    "       Prof. Dr. Manuel Torrilhon<br/>\n",
    "       Dr. Michael Redle <br/>\n",
    "       Vladimir Dordic<br/>\n",
    "    </div>\n",
    "</div>"
   ]
  },
  {
   "cell_type": "markdown",
   "id": "8ac2262f-615f-47ce-a854-516fb22fa293",
   "metadata": {},
   "source": [
    "# Workflow"
   ]
  },
  {
   "cell_type": "markdown",
   "id": "238c2d45-9202-4701-8714-e177775dce4e",
   "metadata": {},
   "source": [
    "The following notebook will guide you through the first programming exercise sheet. The notebook will contain many functions that are used in different places.\n",
    "The notebook is devided into the sections:\n",
    "- Imports\n",
    "- Review: Basis Functions\n",
    "- Main FEM Functions (grid, assembleMatrix, rhsConstant, rhsDelta)\n",
    "- Helper Functions (interpolate, solConstant, solDelta)\n",
    "- Main Routines (FEM1DConstant, FEM1DDelta)\n",
    "- L2 error computation(L2Error)\n",
    "- Plotting Functions (plotResult, plotError)\n",
    "- Test cases\n",
    "\n",
    "<div class=\"alert alert-danger alert-block\">\n",
    "        The main structure of the code is already set up. You only need to add code at places with a '#TODO'comment. Of course, the given structure is only a suggestion.\n",
    "</div>\n",
    "The main structure of the code is already set up. You only need to add code at places with a '#TODO'comment. Of course, the given structure is only a suggestion.\n",
    "\n",
    "The following order of completion is suggested:\n",
    "1. code the functions 'grid', 'assembleMatrix'(linear case), 'rhsConstant'(linear case), 'FEM1DConstant'(linear case) -> complete Test case 0\n",
    "2. code the functions 'solConstant', 'interpolate'(linear case), 'L2Error'(linear case) -> complete Test case 1\n",
    "3. code the functions 'rhsDelta'(linear case), 'FEM1DDelta'(linear case), 'solDelta' -> complete Test case 2\n",
    "4. complete the functions 'assembleMatrix'(quadratic case), 'rhsConstant'(quadratic case), 'interpolate'(quadratic case), 'L2Error'(quadratic case) -> complete Test case 3\n",
    "5. complete the functions 'rhsDelta'(quadratic case) -> complete Test case 4 and Error Comparison"
   ]
  },
  {
   "cell_type": "markdown",
   "id": "255ba2a9-2bce-4f1c-8be5-01c243b7719f",
   "metadata": {},
   "source": [
    "# Imports"
   ]
  },
  {
   "cell_type": "code",
   "execution_count": 1,
   "id": "2fff0412",
   "metadata": {},
   "outputs": [],
   "source": [
    "import numpy as np\n",
    "from scipy.integrate import quad\n",
    "import matplotlib.pyplot as plt\n",
    "from scipy.sparse import spdiags, csc_matrix\n",
    "from scipy.sparse.linalg import spsolve"
   ]
  },
  {
   "cell_type": "markdown",
   "id": "c52cb924-4194-4e20-95b0-65e9dac7bbfb",
   "metadata": {},
   "source": [
    "# Basis Functions"
   ]
  },
  {
   "cell_type": "markdown",
   "id": "894e4996-f9b2-4671-baba-19ead142e632",
   "metadata": {},
   "source": [
    "## Linear Basis Function"
   ]
  },
  {
   "cell_type": "markdown",
   "id": "f6c669ae-1fc0-48c9-b5b5-5a5f092b0b30",
   "metadata": {},
   "source": [
    "Linear basis functions are defined using two nodes per element.\n",
    "$$\n",
    "\\phi_i(x) = \n",
    "\\begin{cases}\n",
    " \\frac{x}{x_{i}-x_{i-1}} & \\text{for } x \\in (x_{i-1}, x_{i}] \\\\\n",
    " \\frac{x_{i+1}-x}{x_{i+1}-x_{i}} & \\text{for } x \\in (x_{i}, x_{i+1}] \\\\\n",
    " 0 & \\text{elsewhere}\n",
    "\\end{cases}\n",
    "$$ \n",
    "In the following example, the green basis function correpsonds to $\\phi_i(x)$ with $x_{i-1} = 0,\\, x_i = 1,\\, x_{i+1} = 2$. Notice that $\\phi_i(x)$ 'overlaps' with $\\phi_{i-1}(x)$ and $\\phi_{i+1}(x)$.\n",
    "The illustration shows two elements of the domain, the first element is defined for $ x \\in (0, 1]$, the second element is defined for $ x \\in (1, 2]$."
   ]
  },
  {
   "cell_type": "code",
   "execution_count": 2,
   "id": "c42b1902-fbe1-469a-b6df-a812dbcc1f43",
   "metadata": {
    "jupyter": {
     "source_hidden": true
    },
    "tags": []
   },
   "outputs": [
    {
     "data": {
      "image/png": "[encoded data removed]",
      "text/plain": [
       "<Figure size 432x288 with 1 Axes>"
      ]
     },
     "metadata": {
      "needs_background": "light"
     },
     "output_type": "display_data"
    }
   ],
   "source": [
    "from sympy.plotting import plot\n",
    "from sympy import Eq, plot_implicit\n",
    "from sympy import Symbol\n",
    "x = Symbol('x') \n",
    "p1 = plot(1-x, (x, 0, 1), line_color='blue',   show=False, label='phi1')\n",
    "p2 = plot(x, (x, 0, 1),line_color='green', show=False, label='phi2')\n",
    "p3 = plot(2-x, (x, 1, 2), line_color='green', show=False, label='phi2')\n",
    "p4 = plot( (x-1), (x, 1, 2),line_color='orange',   show=False, label='phi3')\n",
    "p5 = plot_implicit(Eq(x, 1.0), (x, 0, 2),  show=False)\n",
    "p6 = plot_implicit(Eq(x, 2.0), (x, 0, 2.1),  show=False)\n",
    "p1.ylim=(0.0, 1.0)\n",
    "p1.append(p2[0])\n",
    "p1.append(p3[0])\n",
    "p1.append(p4[0])\n",
    "p1.append(p5[0])\n",
    "p1.append(p6[0])\n",
    "p1.legend=True\n",
    "p1.show()"
   ]
  },
  {
   "cell_type": "markdown",
   "id": "86737075-7e4f-4819-a784-4721e1d64133",
   "metadata": {},
   "source": [
    "## Quadratic Basis Function"
   ]
  },
  {
   "cell_type": "markdown",
   "id": "c2dd812f-ad60-4474-9343-c4c39a3342c3",
   "metadata": {},
   "source": [
    "Quadratic basis functions are defined using three nodes per element.\n",
    "$$\n",
    "\\phi_i^{edge}(x) = \n",
    "\\begin{cases}\n",
    " \\frac{(x_{i-2}-x)(x_{i-1}-x)}{(x_{i-2}-x_{i})(x_{i-1}-x_{i})} & \\text{for } x \\in (x_{i-2}, x_{i-1}] \\\\\n",
    " \\frac{(x-x_{i+1})(x-x_{i+1})}{(x_{i}-x_{i+1})(x_{i}-x_{i+2})} & \\text{for } x \\in (x_{i}, x_{i+2}] \\\\\n",
    " 0 & \\text{elsewhere}\n",
    "\\end{cases}\n",
    "$$ \n",
    "\n",
    "$$\n",
    "\\phi_j^{inner}(x) = \n",
    "\\begin{cases}\n",
    " \\frac{(x-x_{j-1})(x_{j+1}-x)}{(x_{j}-x_{j-1})(x_{j+1}-x_{j})} & \\text{for } x \\in (x_{j-1}, x_{j+1}] \\\\\n",
    " 0 & \\text{elsewhere}\n",
    "\\end{cases}\n",
    "$$\n",
    "\n",
    "In the following example, the green basis function correpsonds to $\\phi_i^{edge}(x)$ for $x_{i-2} = 0,\\, x_{i-1} = 0.5,\\, x_{i} = 1,\\, x_{i+1} = 1.5,\\, x_i{i+2} = 2$. The yellow basis function corresponds to $\\phi_j^{inner}(x)$ for $x_{j-1} = 1,\\, x_{j} = 1.5,\\, x_{j+1} = 2$.\n",
    "Notice that $\\phi_3(x)$ 'overlaps' with four other basis functions, while $\\phi_2(x)$ and $\\phi_4(x)$ only 'overlap' with two other basis functions.\n"
   ]
  },
  {
   "cell_type": "code",
   "execution_count": 3,
   "id": "7a715267-a157-4005-be64-46c3fe473e8d",
   "metadata": {
    "jupyter": {
     "source_hidden": true
    },
    "tags": []
   },
   "outputs": [
    {
     "data": {
      "image/png": "[encoded data removed]",
      "text/plain": [
       "<Figure size 432x288 with 1 Axes>"
      ]
     },
     "metadata": {
      "needs_background": "light"
     },
     "output_type": "display_data"
    }
   ],
   "source": [
    "from sympy.plotting import plot\n",
    "from sympy import Eq, plot_implicit\n",
    "from sympy import Symbol\n",
    "x = Symbol('x') \n",
    "p1 = plot( (1/2-x)*(1-x)/2, (x, 0, 1), line_color='blue',   show=False, label='phi1')\n",
    "p2 = plot((1-x)*(x), (x, 0, 1),line_color='orange', show=False, label='phi2')\n",
    "p3 = plot((x)*(x-0.5)/2, (x, 0, 1), line_color='green', show=False, label='phi3')\n",
    "p4 = plot( (3/2-x)*(2-x)/2, (x, 1, 2),line_color='green',   show=False, label='phi3')\n",
    "p5 = plot((2-x)*(x-1), (x, 1, 2), line_color='yellow', show=False, label='phi4')\n",
    "p6 = plot((x-1)*(x-3/2)/2, (x, 1, 2),line_color='cyan',  show=False, label='phi5')\n",
    "p7 = plot_implicit(Eq(x, 1.0), (x, 0, 2),  show=False)\n",
    "p8 = plot_implicit(Eq(x, 2.0), (x, 0, 2.1),  show=False)\n",
    "p1.ylim=(-.05, 0.3)\n",
    "p1.append(p2[0])\n",
    "p1.append(p3[0])\n",
    "p1.append(p4[0])\n",
    "p1.append(p5[0])\n",
    "p1.append(p6[0])\n",
    "p1.append(p7[0])\n",
    "p1.append(p8[0])\n",
    "p1.legend = True\n",
    "p1.show()"
   ]
  },
  {
   "cell_type": "markdown",
   "id": "df5b3863-7cb4-4e57-9768-083051eb2003",
   "metadata": {},
   "source": [
    "# FEM Framework"
   ]
  },
  {
   "cell_type": "markdown",
   "id": "e6b5dba3-8105-4880-8993-9be3d843b9ad",
   "metadata": {},
   "source": [
    "## Main FEM Functions"
   ]
  },
  {
   "cell_type": "code",
   "execution_count": null,
   "id": "788fce94",
   "metadata": {},
   "outputs": [],
   "source": [
    "def grid(N, ansatz='linear'):\n",
    "    # N: the number of elements\n",
    "    # ansatz: linear(default) will generate 2 nodes per element. quadratic(else case) generates 3 nodes per element\n",
    "    # return: a vector containing the node coordinates\n",
    "    if (ansatz=='linear'):\n",
    "        #TODO\n",
    "    else:\n",
    "        #TODO\n",
    "    return vec"
   ]
  },
  {
   "cell_type": "markdown",
   "id": "47701ffd-3ee2-48dd-9a9e-acfbd2a17acf",
   "metadata": {},
   "source": [
    "The stiffness matrix can directly be computed via\n",
    "$$\n",
    "A_{ij} = \\int_\\Omega \\phi'_i(x) \\, \\phi'_j(x) \\, dx \\quad,\n",
    "$$\n",
    "where the basis functions shall be either linear or quadratic ansatz functions. \\\n",
    "Tips: \n",
    "- The integrals can be precomputed.\n",
    "- In regions where the basis functions do not 'overlap', the integral is 0.\n",
    "- The solution is known on the boundaries. You therefore only need to compute a solution for the unknown inner nodes of the domain. Choose the size of the stiffness matrix correspondingly."
   ]
  },
  {
   "cell_type": "code",
   "execution_count": null,
   "id": "f32c8bc3",
   "metadata": {},
   "outputs": [],
   "source": [
    "def assembleMatrix(lattice, ansatz='linear'):\n",
    "    # lattice: node vector\n",
    "    # return: stiffness matrix\n",
    "    if (ansatz=='linear'):\n",
    "        #TODO\n",
    "    else:\n",
    "        #TODO\n",
    "        \n",
    "    return A"
   ]
  },
  {
   "cell_type": "markdown",
   "id": "153b8e82-b5f8-4db6-bc85-d9d47d05b3ca",
   "metadata": {},
   "source": [
    "The right hand side of the equation can be computed via\n",
    "$$\n",
    "b_i(x) = \\int_\\Omega f(x) \\, \\phi_i(x) dx \n",
    "$$\n",
    "\n",
    "Tips:\n",
    "- For a more general purpose FEM solver, you can also change the function definition to 'def rhs(function, lattice, ansatz='linear)'.\n",
    "- Precomputation of the integral of the delta function is much easier (rhsDelta). The integration of the constant function (rhsConstant) can be numerically evaluated or also precomputed.\n",
    "- Interation can be done via the 'quad(function, x_0, x_1)' function. Note that this function returns multiple values. The first entry contains the integration result (https://docs.scipy.org/doc/scipy/reference/generated/scipy.integrate.quad.html).\n",
    "- The dimension of the stiffness matrix and the right hand side vector need to be the same."
   ]
  },
  {
   "cell_type": "code",
   "execution_count": null,
   "id": "389c99e0",
   "metadata": {},
   "outputs": [],
   "source": [
    "def rhsConstant(lattice, ansatz='linear'):\n",
    "    # lattice: node values\n",
    "    # return: vector of right hand side values\n",
    "    if (ansatz=='linear'):\n",
    "        #TODO\n",
    "    else:\n",
    "        #TODO\n",
    "    return b"
   ]
  },
  {
   "cell_type": "code",
   "execution_count": null,
   "id": "985e3a06-b999-4792-a0b1-30eb41ab6dc5",
   "metadata": {},
   "outputs": [],
   "source": [
    "def rhsDelta(lattice, ansatz='linear'):\n",
    "    # lattice: node values\n",
    "    # return: vector of right hand side values\n",
    "    if (ansatz=='linear'):\n",
    "        #TODO\n",
    "    else:\n",
    "        #TODO\n",
    "    return b"
   ]
  },
  {
   "cell_type": "markdown",
   "id": "0e2150f9-fd75-41a5-bbcd-9c66c110b839",
   "metadata": {},
   "source": [
    "## Helper Functions"
   ]
  },
  {
   "cell_type": "code",
   "execution_count": null,
   "id": "89278ebd-a9b4-4288-a7cc-a350ae476eca",
   "metadata": {},
   "outputs": [],
   "source": [
    "def interpolate(x, lattice, u, ansatz='linear'):\n",
    "    # x: a real number on the domain, where the function shall be evaluated\n",
    "    # lattice: node vector\n",
    "    # u: solution vector\n",
    "    # return: the appoximated solution u(x) \n",
    "    if (ansatz=='linear'):\n",
    "        assert(x<1)\n",
    "        assert(x >= 0)\n",
    "        #TODO\n",
    "    else:\n",
    "        assert(x<1)\n",
    "        assert(x >= 0)\n",
    "        #TODO\n",
    "   \n",
    "    return #TODO"
   ]
  },
  {
   "cell_type": "code",
   "execution_count": null,
   "id": "02a83942-8e2e-4408-b026-74874b630868",
   "metadata": {},
   "outputs": [],
   "source": [
    "def solConstant(x):\n",
    "    # x: a real number (or a vector of real numbers), where the analytic solution is computed\n",
    "    # return: a real number (or a vector of real numbers) of the analytic solution for f=1\n",
    "    X =  -0.5*(x-0.5)**2+1/8\n",
    "    return X"
   ]
  },
  {
   "cell_type": "code",
   "execution_count": null,
   "id": "7e8dad4e-d858-40ea-bb38-0e33ac9a550c",
   "metadata": {},
   "outputs": [],
   "source": [
    "def solDelta(x):\n",
    "    # x: a real number (or a vector of real numbers), where the analytic solution is computed\n",
    "    # return: a real number (or a vector of real numbers) of the analytic solution for $f=2 \\delta(x-1/2)$\n",
    "    \n",
    "    #TODO\n",
    "    \n",
    "    return #TODO\n"
   ]
  },
  {
   "cell_type": "markdown",
   "id": "50fac300-b170-40c6-9fad-796d97450729",
   "metadata": {},
   "source": [
    "## Main Routines"
   ]
  },
  {
   "cell_type": "code",
   "execution_count": null,
   "id": "e980269e",
   "metadata": {},
   "outputs": [],
   "source": [
    "def FEM1DConstant(N, ansatz='linear'):\n",
    "    # N: number of elements\n",
    "    # ansatz: choose between 'linear' or 'quadratic' ansatz functions\n",
    "    # return: pair (node vector, solution vector)\n",
    "    \n",
    "    # Set up the node vector\n",
    "    #TODO\n",
    "    \n",
    "    # Assemble stiffness matrix and right hand side\n",
    "    #TODO\n",
    "    \n",
    "    # solve\n",
    "    #TODO\n",
    "    \n",
    "    return G, u\n",
    "    "
   ]
  },
  {
   "cell_type": "code",
   "execution_count": null,
   "id": "30632ecc-0022-4cef-a068-7e9003dfdaf3",
   "metadata": {},
   "outputs": [],
   "source": [
    "def FEM1DDelta(N, ansatz='linear'):\n",
    "    # N: number of elements\n",
    "    # ansatz: choose between 'linear' or 'quadratic' ansatz functions\n",
    "    # return: pair (node vector, solution vector)\n",
    "    \n",
    "    # Set up the node vector\n",
    "    #TODO\n",
    "    \n",
    "    # Assemble stiffness matrix and right hand side\n",
    "    #TODO\n",
    "    \n",
    "    # solve\n",
    "    #TODO\n",
    "    \n",
    "    return G, u"
   ]
  },
  {
   "cell_type": "markdown",
   "id": "dba19784-6d7b-43e8-8525-e240c461000f",
   "metadata": {},
   "source": [
    "## L2-error"
   ]
  },
  {
   "cell_type": "markdown",
   "id": "e87ec3f4-7712-42ca-92ed-1b2c1b810557",
   "metadata": {},
   "source": [
    "Tips:\n",
    "- use the interpolate function (which you should define below in the section helper functions)\n",
    "- Interation can be done via the 'quad(function, x_0, x_1)' function. Note that this function returns multiple values. The first entry contains the integration result (https://docs.scipy.org/doc/scipy/reference/generated/scipy.integrate.quad.html)."
   ]
  },
  {
   "cell_type": "code",
   "execution_count": null,
   "id": "68aee9da-3832-4ad1-9df2-ec3a4949e1c1",
   "metadata": {},
   "outputs": [],
   "source": [
    "def L2error(sol, lattice, u, ansatz='linear'):\n",
    "    # sol: function handle for the analytic solution (see helper functions)\n",
    "    # lattice: node vector\n",
    "    # u: solution vector \n",
    "    # return: pair (maximal distance between two nodes, L2-error)\n",
    "    \n",
    "    #TODO\n",
    "    \n",
    "    return h, error"
   ]
  },
  {
   "cell_type": "markdown",
   "id": "f0eca884-d17e-45e8-b84b-c83a9bc50eca",
   "metadata": {},
   "source": [
    "## Functions for Plotting"
   ]
  },
  {
   "cell_type": "code",
   "execution_count": null,
   "id": "9952620e-bdab-4693-8555-63d47af8d5b6",
   "metadata": {},
   "outputs": [],
   "source": [
    "def plotResult(x, u, X, U, title='Title', ansatz='linear'):\n",
    "    # x: node vector\n",
    "    # u: solution vector\n",
    "    # X: positions (vector), where the analytic solution has been evaluated\n",
    "    # U: function values (vector) of the analytic solution \n",
    "    u_int = np.zeros(X.size)\n",
    "    for idx, val  in enumerate(X[:-1]):\n",
    "        u_int[idx] = interpolate(val, x, u, ansatz)\n",
    "    u_nod = np.zeros(x.size)\n",
    "    for idx, val  in enumerate(x[:-1]):\n",
    "        u_nod[idx] = interpolate(val, x, u, ansatz)\n",
    "    fig = plt.figure()\n",
    "    ax = fig.add_axes([0,0,1,1])\n",
    "    ax.plot(X,u_int, '-.r', label = 'interpolated result')\n",
    "    ax.plot(x,u_nod, 'xr', label = 'node values')\n",
    "    ax.plot(X, U, ':', label = 'analytic solution')\n",
    "    ax.set_xlabel('x')\n",
    "    ax.set_ylabel('u(x)')\n",
    "    ax.set_title(title)\n",
    "    ax.legend()\n",
    "    plt.show()"
   ]
  },
  {
   "cell_type": "code",
   "execution_count": null,
   "id": "2d2ad5d3-c5a4-48d3-a8a1-c1f4e3d0f08c",
   "metadata": {},
   "outputs": [],
   "source": [
    "def plotError(x, u, title='L2-error ||u-u_h||_{L^2}'):\n",
    "    # x: node vector\n",
    "    # u: solution vector\n",
    "    fig = plt.figure()\n",
    "    ax = fig.add_axes([0,0,1,1])\n",
    "    ax.loglog(x,u, 'xr--')\n",
    "    ax.set_xlabel('max gridsize')\n",
    "    ax.set_ylabel('error')\n",
    "    ax.set_title(title)\n",
    "    ax.invert_xaxis()\n",
    "    plt.show()"
   ]
  },
  {
   "cell_type": "markdown",
   "id": "d50387fc-4c7f-419f-93b9-ba0302ad4905",
   "metadata": {},
   "source": [
    "# Test Cases"
   ]
  },
  {
   "cell_type": "markdown",
   "id": "e6113789-09f5-49e9-9f48-e58f024c566a",
   "metadata": {},
   "source": [
    "First, the individual cases for both right hand sides and linear and quadratic basis functions will be tested.\n",
    "Afterwards, the difference between linear and quadratic basis functions and the influence of specific right hand sides will be investigated."
   ]
  },
  {
   "cell_type": "markdown",
   "id": "4f41442e-d240-4725-b633-77e0d6e7a0f7",
   "metadata": {},
   "source": [
    "## Case 0: First quick check"
   ]
  },
  {
   "cell_type": "code",
   "execution_count": null,
   "id": "cb11a014-1d5e-4f5e-9560-134de13d8e57",
   "metadata": {},
   "outputs": [],
   "source": [
    "x, u = FEM1DConstant(11)\n",
    "plt.plot(x, u)"
   ]
  },
  {
   "cell_type": "markdown",
   "id": "f5caa86f-3592-41fb-99d1-81e2b462e1d4",
   "metadata": {},
   "source": [
    "## Case 1: $f = 1$ (linear)"
   ]
  },
  {
   "cell_type": "code",
   "execution_count": null,
   "id": "804c8ab9-a9f0-4532-978d-eee2e6c724b5",
   "metadata": {
    "tags": []
   },
   "outputs": [],
   "source": [
    "x, u  = FEM1DConstant(11)\n",
    "X = np.linspace(0, 1, 1000)\n",
    "U = solConstant(X)\n",
    "plotResult(x, u, X, U, title='FEM 1D f = 1 (linear)')"
   ]
  },
  {
   "cell_type": "code",
   "execution_count": null,
   "id": "5652efd5-365e-4103-beb7-b3087ade5dca",
   "metadata": {},
   "outputs": [],
   "source": [
    "N = np.linspace(10, 1000, 50, dtype=int)\n",
    "N[::2] = N[::2] + 1\n",
    "errorConstantLinear = np.zeros(N.size)\n",
    "maxGridsize = np.zeros(N.size)\n",
    "for i, n in enumerate(N):\n",
    "    x, u = FEM1DConstant(n)\n",
    "    maxGridsize[i], errorConstantLinear[i] = L2error(solConstant, x, u)\n",
    "    "
   ]
  },
  {
   "cell_type": "code",
   "execution_count": null,
   "id": "ded1074f-f4a5-4e90-80c5-55e854c1d4ea",
   "metadata": {},
   "outputs": [],
   "source": [
    "plotError(maxGridsize, errorConstantLinear)"
   ]
  },
  {
   "cell_type": "markdown",
   "id": "054b7446-8405-4653-9bca-f8c09498276e",
   "metadata": {},
   "source": [
    "## Case 2: $f(x) = 2\\delta(x-1/2)$ (linear)"
   ]
  },
  {
   "cell_type": "code",
   "execution_count": null,
   "id": "adb3c1f3-93c5-4330-a6a1-f3ec707def8d",
   "metadata": {
    "tags": []
   },
   "outputs": [],
   "source": [
    "x, u  = FEM1DDelta(10)\n",
    "X = np.linspace(0, 1, 1000)\n",
    "U = solDelta(X)\n",
    "plotResult(x, u, X, U, title='FEM 1D f(x) = 2*delta(x-1/2) (linear)')"
   ]
  },
  {
   "cell_type": "code",
   "execution_count": null,
   "id": "a6778d68-3c65-459d-b977-6a480984de59",
   "metadata": {
    "tags": []
   },
   "outputs": [],
   "source": [
    "x, u  = FEM1DDelta(11)\n",
    "X = np.linspace(0, 1, 1000)\n",
    "U = solDelta(X)\n",
    "plotResult(x, u, X, U, title='FEM 1D f = 2*delta(x-1/2) (linear)')"
   ]
  },
  {
   "cell_type": "code",
   "execution_count": null,
   "id": "5f4caa3b-1a8c-4b82-9876-2b5d64410066",
   "metadata": {},
   "outputs": [],
   "source": [
    "N = np.linspace(10, 1000, 50, dtype=int)\n",
    "N[::2] = N[::2] + 1\n",
    "errorDeltaLinear = np.zeros(N.size)\n",
    "maxGridsize = np.zeros(N.size)\n",
    "for i, n in enumerate(N):\n",
    "    x, u = FEM1DDelta(n)\n",
    "    maxGridsize[i], errorDeltaLinear[i] = L2error(solDelta, x, u)\n",
    "    "
   ]
  },
  {
   "cell_type": "code",
   "execution_count": null,
   "id": "dd4c3469-3589-453f-827d-1840f31f519a",
   "metadata": {},
   "outputs": [],
   "source": [
    "plotError(maxGridsize, errorDeltaLinear)"
   ]
  },
  {
   "cell_type": "markdown",
   "id": "eb656801-14cb-4f87-856b-9e3de177f6db",
   "metadata": {},
   "source": [
    "## Case 3: $f=1$ (quadratic)"
   ]
  },
  {
   "cell_type": "code",
   "execution_count": null,
   "id": "7c34617a-f33c-410a-b8cc-87fc80b0a6ac",
   "metadata": {
    "tags": []
   },
   "outputs": [],
   "source": [
    "xL, uL = FEM1DConstant(10)\n",
    "xQ, uQ  = FEM1DConstant(5, 'quadratic')\n",
    "X = np.linspace(0, 1, 1000)\n",
    "U = solConstant(X)\n",
    "plotResult(xQ, uQ, X, U, title='FEM 1D f = 1 (quadratic)', ansatz='quadratic')\n",
    "plotResult(xL, uL, X, U, title='FEM 1D f = 1 (linear)')\n",
    "print('L2-error (quadratic)', L2error(solConstant, xQ, uQ, 'quadratic'))\n",
    "print('L2-error (linear)', L2error(solConstant, xL, uL))"
   ]
  },
  {
   "cell_type": "code",
   "execution_count": null,
   "id": "f0f17a96-a55c-4a6c-b200-cae9cb78e91a",
   "metadata": {},
   "outputs": [],
   "source": [
    "N = np.linspace(10, 1000, 50, dtype=int)\n",
    "N[::2] = N[::2] + 1\n",
    "errorConstantQuadratic = np.zeros(N.size)\n",
    "maxGridsize = np.zeros(N.size)\n",
    "for i, n in enumerate(N):\n",
    "    x, u = FEM1DConstant(n, 'quadratic')\n",
    "    maxGridsize[i], errorConstantQuadratic[i] = L2error(solConstant, x, u, 'quadratic')"
   ]
  },
  {
   "cell_type": "code",
   "execution_count": null,
   "id": "f02010c4-bc93-4ec1-9f5c-ddb58f2c1afe",
   "metadata": {},
   "outputs": [],
   "source": [
    "plotError(maxGridsize, errorConstantQuadratic)"
   ]
  },
  {
   "cell_type": "markdown",
   "id": "76b2a38b-a371-4602-a4a7-ff7cb65eb290",
   "metadata": {},
   "source": [
    "## Case 4: $f(x) = 2\\delta(x-1/2)$   (quadratic)"
   ]
  },
  {
   "cell_type": "code",
   "execution_count": null,
   "id": "261c4062-6082-4ffb-b22b-f6922450b47d",
   "metadata": {
    "tags": []
   },
   "outputs": [],
   "source": [
    "x, u  = FEM1DDelta(3,  'quatratic')\n",
    "X = np.linspace(0, 1, 1000)\n",
    "U = solDelta(X)\n",
    "plotResult(x, u, X, U, title='FEM 1D f(x) = 2*delta(x-1/2) (quadratic)', ansatz='quadratic')\n",
    "print(L2error(solDelta, x, u, 'quadratic'))"
   ]
  },
  {
   "cell_type": "code",
   "execution_count": null,
   "id": "abf36f78-3a21-447b-8bd2-811f065b2070",
   "metadata": {
    "tags": []
   },
   "outputs": [],
   "source": [
    "x, u  = FEM1DDelta(4, 'quadratic')\n",
    "X = np.linspace(0, 1, 1000)\n",
    "U = solDelta(X)\n",
    "plotResult(x, u, X, U, title='FEM 1D f(x) = 2*delta(x-1/2) (quadratic)', ansatz='quadratic')\n",
    "print(L2error(solDelta, x, u, 'quadratic'))"
   ]
  },
  {
   "cell_type": "code",
   "execution_count": null,
   "id": "5e631692-248f-413f-b7d5-1e8bff0d6de3",
   "metadata": {},
   "outputs": [],
   "source": [
    "N = np.linspace(10, 1000, 50, dtype=int)\n",
    "N[::2] = N[::2] + 1\n",
    "errorDeltaQuadratic = np.zeros(N.size)\n",
    "maxGridsize = np.zeros(N.size)\n",
    "for i, n in enumerate(N):\n",
    "    x, u = FEM1DDelta(n, 'quadratic')\n",
    "    maxGridsize[i], errorDeltaQuadratic[i] = L2error(solDelta, x, u, 'quadratic')\n",
    "    "
   ]
  },
  {
   "cell_type": "code",
   "execution_count": null,
   "id": "34d395db-32d3-4389-80db-5c65b773a360",
   "metadata": {},
   "outputs": [],
   "source": [
    "plotError(maxGridsize, errorDeltaQuadratic)"
   ]
  },
  {
   "cell_type": "markdown",
   "id": "0c40797a-ab96-4457-b6da-42cf5d5c3753",
   "metadata": {},
   "source": [
    "# Error Comparison"
   ]
  },
  {
   "cell_type": "code",
   "execution_count": null,
   "id": "fcfb44f0-411c-41bc-b184-29803aaf832c",
   "metadata": {},
   "outputs": [],
   "source": [
    "fig = plt.figure()\n",
    "ax = fig.add_axes([0,0,1,1])\n",
    "ax.loglog(maxGridsize, errorDeltaLinear, 'og', label='delta linear')\n",
    "ax.loglog(maxGridsize, errorDeltaQuadratic, 'or', label='delta quadratic')\n",
    "ax.set_xlabel('max gridsize')\n",
    "ax.set_xlabel('max gridsize')\n",
    "ax.set_ylabel('error')\n",
    "ax.set_title('Error comparison')\n",
    "ax.invert_xaxis()\n",
    "ax.legend()\n",
    "plt.show()"
   ]
  },
  {
   "cell_type": "code",
   "execution_count": null,
   "id": "166aaab4-f1e1-4cde-b904-158a94927e87",
   "metadata": {},
   "outputs": [],
   "source": [
    "fig = plt.figure()\n",
    "ax = fig.add_axes([0,0,1,1])\n",
    "ax.loglog(maxGridsize, errorConstantLinear, '.g--', label='constant linear')\n",
    "ax.loglog(maxGridsize, errorConstantQuadratic, '.r--', label='constant quadratic')\n",
    "ax.set_xlabel('max gridsize')\n",
    "ax.set_ylabel('error')\n",
    "ax.set_title('Error comparison')\n",
    "ax.invert_xaxis()\n",
    "ax.legend()\n",
    "plt.show()"
   ]
  }
 ],
 "metadata": {
  "kernelspec": {
   "display_name": "Python 3",
   "language": "python",
   "name": "python3"
  },
  "language_info": {
   "codemirror_mode": {
    "name": "ipython",
    "version": 3
   },
   "file_extension": ".py",
   "mimetype": "text/x-python",
   "name": "python",
   "nbconvert_exporter": "python",
   "pygments_lexer": "ipython3",
   "version": "3.8.8"
  },
  "toc": {
   "base_numbering": 1,
   "nav_menu": {},
   "number_sections": true,
   "sideBar": true,
   "skip_h1_title": false,
   "title_cell": "Table of Contents",
   "title_sidebar": "Contents",
   "toc_cell": true,
   "toc_position": {},
   "toc_section_display": true,
   "toc_window_display": true
  },
  "varInspector": {
   "cols": {
    "lenName": 16,
    "lenType": 16,
    "lenVar": 40
   },
   "kernels_config": {
    "python": {
     "delete_cmd_postfix": "",
     "delete_cmd_prefix": "del ",
     "library": "var_list.py",
     "varRefreshCmd": "print(var_dic_list())"
    },
    "r": {
     "delete_cmd_postfix": ") ",
     "delete_cmd_prefix": "rm(",
     "library": "var_list.r",
     "varRefreshCmd": "cat(var_dic_list()) "
    }
   },
   "types_to_exclude": [
    "module",
    "function",
    "builtin_function_or_method",
    "instance",
    "_Feature"
   ],
   "window_display": false
  }
 },
 "nbformat": 4,
 "nbformat_minor": 5
}
