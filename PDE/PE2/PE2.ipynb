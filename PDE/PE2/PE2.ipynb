{
 "cells": [
  {
   "cell_type": "code",
   "execution_count": null,
   "id": "f4915d6f-e3f5-47d3-92b1-b01c45a17053",
   "metadata": {},
   "outputs": [],
   "source": [
    "import lib\n",
    "lib.load_styles_and_macros()"
   ]
  },
  {
   "cell_type": "markdown",
   "id": "78968857-f7d4-4cfc-8924-3a46198b72b4",
   "metadata": {},
   "source": [
    "<div class=\"header\">\n",
    "    <div class=\"title\">\n",
    "    <h1>Programming Exercise 2</h1>\n",
    "    </div>\n",
    "    <div class=\"authors\">\n",
    "        Prof. Dr. Manuel Torrilhon<br/>\n",
    "        Dr. Michael Redle <br/>   \n",
    "        Vladimir Dordic <br/>\n",
    "    </div>\n",
    "</div>"
   ]
  },
  {
   "cell_type": "markdown",
   "id": "5cfd46ef-6d90-4408-a645-1fe0608c5bdc",
   "metadata": {},
   "source": [
    "# Task"
   ]
  },
  {
   "cell_type": "markdown",
   "id": "7fd8c911-3267-476a-9646-137532bf6200",
   "metadata": {},
   "source": [
    "The main task of this exercise will be work with the mapping between the physical and reference coordinates. In order to complete the first part of the exercise, you will therefore implement routines to construct the stiffness matrix and the right hand side in\n",
    "- setEquationSystem\n",
    "\n",
    "and apply appropriate boundary conditions in a second step in\n",
    "- setBoundaryConditions\n",
    "\n",
    "The second part will contain a small convergence study under mesh refinement.\n",
    "The third part illustrates of the effects of different parameter sets. You will not need to code anything in this part.\n",
    "\n",
    "Part four and five are optional tasks. You wil explore higher order methods and other element geometries. \n",
    "\n",
    "<div class=\"alert alert-danger alert-block\">\n",
    "        The main structure of the code is already set up. You only need to add code at places with a '#TODO'comment.\n",
    "</div>\n",
    "\n",
    "**Feel free to ask any questions (dordic@eddy.rwth-aachen.de), if you have problems to get your code running.**"
   ]
  },
  {
   "cell_type": "markdown",
   "id": "e668dff1-4a84-4290-a3b2-2a3270966cc9",
   "metadata": {},
   "source": [
    "# Imports"
   ]
  },
  {
   "cell_type": "code",
   "execution_count": 1,
   "id": "4d8a1127-b0c6-42b3-9209-dea8f5c75b35",
   "metadata": {},
   "outputs": [],
   "source": [
    "from lwmeshutils import MeshUtilities, unit_triangle_quadrature, unit_interval_quadrature\n",
    "from scipy.sparse import spdiags, csc_matrix\n",
    "import numpy as np\n",
    "from decimal import Decimal\n",
    "import matplotlib.pyplot as plt\n",
    "\n",
    "import matplotlib.ticker as ticker\n",
    "%matplotlib inline"
   ]
  },
  {
   "cell_type": "markdown",
   "id": "240b20f8-143e-4d78-8c7b-620ebb0616c9",
   "metadata": {
    "tags": []
   },
   "source": [
    "# Setup"
   ]
  },
  {
   "cell_type": "markdown",
   "id": "548dc777-c30f-41be-beb6-e59b06459ec0",
   "metadata": {},
   "source": [
    "Consider the slightly generalized problem from the exercise sheet\n",
    "$$ \n",
    "\\begin{aligned}\n",
    "    - c \\, \\Delta u &= f &&\\text{in} \\,\\, \\Omega \\\\\n",
    "      u &= d &&\\text{on} \\,\\, \\Gamma_D \\\\\n",
    "     \\partial_n u &= n && \\text{on} \\,\\, \\Gamma_N\n",
    "\\end{aligned}\n",
    "$$\n",
    "where $c, d, n \\in \\mathbb{R}$ are constants and $f: \\mathbb{R}^2 \\rightarrow \\mathbb{R}$ is a function mapping the coordinates (x,y) to some function value."
   ]
  },
  {
   "cell_type": "code",
   "execution_count": 3,
   "id": "47a92e74",
   "metadata": {},
   "outputs": [],
   "source": [
    "def parameters(sourceFunc=(lambda x,y: 1.0), laplaceCoeff=1.0, neumannCoeff=0.0, dirichletValue=0.0, order=1):\n",
    "    params = {}\n",
    "    params[\"sourceFunc\"] = sourceFunc\n",
    "    params[\"laplaceCoeff\"] = laplaceCoeff\n",
    "    params[\"neumannCoeff\"] = neumannCoeff\n",
    "    params[\"dirichletValue\"] = dirichletValue\n",
    "    params[\"order\"] = order\n",
    "    return params\n",
    "\n",
    "# let's use the function above to generate all parameter sets we need this exercise.\n",
    "paramConst = parameters()\n",
    "paramSin = parameters(sourceFunc=(lambda x,y: np.sin(2*np.pi*x)))\n",
    "paramConstDir = parameters(dirichletValue=1.0)\n",
    "paramConst2Order = parameters(order=2)"
   ]
  },
  {
   "cell_type": "markdown",
   "id": "de5ed526-9a33-4315-9f5f-4b0dd12fcaca",
   "metadata": {},
   "source": [
    "The dictionary returned by `parameters()` will hold all essential parameters of our problem. In particular, you will be able to change\n",
    "- the source term $f$ via 'sourceFunc' (lambda function)\n",
    "- the lapace coefficient $c$ via 'lapalceCoeff'\n",
    "- the neumann coefficient $d$ via 'neumannCoeff'\n",
    "- the dirichlet value $d$ via 'dirichletValue'\n",
    "- the order of the element basis via 'order'"
   ]
  },
  {
   "cell_type": "markdown",
   "id": "6c2578b8",
   "metadata": {},
   "source": [
    "## `setEquationSystem`"
   ]
  },
  {
   "cell_type": "code",
   "execution_count": 4,
   "id": "22fdffb1-3f72-46a8-9fb4-6f3c9fa3fe9d",
   "metadata": {},
   "outputs": [],
   "source": [
    "def setEquationSystem(meshdata: MeshUtilities ,param: dict): \n",
    "    #TODO \n",
    "\n",
    "    return A,f\n"
   ]
  },
  {
   "cell_type": "markdown",
   "id": "76e1fc53-084d-458f-882e-3dd562e5ee0f",
   "metadata": {
    "tags": []
   },
   "source": [
    "## `setBoundaryValues`"
   ]
  },
  {
   "cell_type": "code",
   "execution_count": 5,
   "id": "d71e733c-8927-4bb8-922d-2312af48e4ce",
   "metadata": {},
   "outputs": [],
   "source": [
    "def setBoundaryValues(meshOps: MeshUtilities, param: dict, A, f): \n",
    "    #TODO \n",
    "\n",
    "    return A,f\n"
   ]
  },
  {
   "cell_type": "markdown",
   "id": "bd0a23c6-4169-48ad-be2a-867e8d8115aa",
   "metadata": {
    "tags": []
   },
   "source": [
    "# Part 1: Unit Square\n",
    "This is essentially the evaluation of subtask 1. and the verification part of subtask 2. from the exercise sheet:"
   ]
  },
  {
   "cell_type": "code",
   "execution_count": 6,
   "id": "29f312cd-ca68-411d-895b-fbc929838080",
   "metadata": {},
   "outputs": [],
   "source": [
    "# set up the problem on unitSquare1\n",
    "meshOps = MeshUtilities('mesh/unitSquare1.msh')"
   ]
  },
  {
   "cell_type": "code",
   "execution_count": 7,
   "id": "a55a8e28-af96-4940-ae80-6b057edee62a",
   "metadata": {},
   "outputs": [
    {
     "ename": "AttributeError",
     "evalue": "'MeshUtilities' object has no attribute 'npoints'",
     "output_type": "error",
     "traceback": [
      "\u001b[1;31m---------------------------------------------------------------------------\u001b[0m",
      "\u001b[1;31mAttributeError\u001b[0m                            Traceback (most recent call last)",
      "\u001b[1;32md:\\RWTH\\Sisc\\PDE\\PE2\\PE2.ipynb Cell 17\u001b[0m line \u001b[0;36m1\n\u001b[1;32m----> <a href='vscode-notebook-cell:/d%3A/RWTH/Sisc/PDE/PE2/PE2.ipynb#X22sZmlsZQ%3D%3D?line=0'>1</a>\u001b[0m A,f \u001b[39m=\u001b[39m setEquationSystem(meshOps,paramConst)\n\u001b[0;32m      <a href='vscode-notebook-cell:/d%3A/RWTH/Sisc/PDE/PE2/PE2.ipynb#X22sZmlsZQ%3D%3D?line=1'>2</a>\u001b[0m \u001b[39mprint\u001b[39m(\u001b[39m\"\u001b[39m\u001b[39mAfter setEqSystem:\u001b[39m\u001b[39m\"\u001b[39m)\n\u001b[0;32m      <a href='vscode-notebook-cell:/d%3A/RWTH/Sisc/PDE/PE2/PE2.ipynb#X22sZmlsZQ%3D%3D?line=2'>3</a>\u001b[0m \u001b[39mprint\u001b[39m(A[\u001b[39m0\u001b[39m:\u001b[39m5\u001b[39m, \u001b[39m0\u001b[39m:\u001b[39m5\u001b[39m])\n",
      "\u001b[1;32md:\\RWTH\\Sisc\\PDE\\PE2\\PE2.ipynb Cell 17\u001b[0m line \u001b[0;36m7\n\u001b[0;32m      <a href='vscode-notebook-cell:/d%3A/RWTH/Sisc/PDE/PE2/PE2.ipynb#X22sZmlsZQ%3D%3D?line=0'>1</a>\u001b[0m \u001b[39mdef\u001b[39;00m \u001b[39msetEquationSystem\u001b[39m(meshdata: MeshUtilities ,param: \u001b[39mdict\u001b[39m): \n\u001b[0;32m      <a href='vscode-notebook-cell:/d%3A/RWTH/Sisc/PDE/PE2/PE2.ipynb#X22sZmlsZQ%3D%3D?line=1'>2</a>\u001b[0m     \u001b[39m#TODO \u001b[39;00m\n\u001b[0;32m      <a href='vscode-notebook-cell:/d%3A/RWTH/Sisc/PDE/PE2/PE2.ipynb#X22sZmlsZQ%3D%3D?line=2'>3</a>\u001b[0m     \u001b[39m# 1. Compute the matrices A and f\u001b[39;00m\n\u001b[0;32m      <a href='vscode-notebook-cell:/d%3A/RWTH/Sisc/PDE/PE2/PE2.ipynb#X22sZmlsZQ%3D%3D?line=3'>4</a>\u001b[0m     \u001b[39m# 2. Apply the boundary conditions\u001b[39;00m\n\u001b[0;32m      <a href='vscode-notebook-cell:/d%3A/RWTH/Sisc/PDE/PE2/PE2.ipynb#X22sZmlsZQ%3D%3D?line=4'>5</a>\u001b[0m     \u001b[39m# 3. Return A,f\u001b[39;00m\n\u001b[0;32m      <a href='vscode-notebook-cell:/d%3A/RWTH/Sisc/PDE/PE2/PE2.ipynb#X22sZmlsZQ%3D%3D?line=5'>6</a>\u001b[0m     \u001b[39m# 1. Compute the matrices A and f\u001b[39;00m\n\u001b[1;32m----> <a href='vscode-notebook-cell:/d%3A/RWTH/Sisc/PDE/PE2/PE2.ipynb#X22sZmlsZQ%3D%3D?line=6'>7</a>\u001b[0m     A \u001b[39m=\u001b[39m np\u001b[39m.\u001b[39mzeros((meshdata\u001b[39m.\u001b[39;49mnpoints,meshdata\u001b[39m.\u001b[39mnpoints))\n\u001b[0;32m      <a href='vscode-notebook-cell:/d%3A/RWTH/Sisc/PDE/PE2/PE2.ipynb#X22sZmlsZQ%3D%3D?line=7'>8</a>\u001b[0m     f \u001b[39m=\u001b[39m np\u001b[39m.\u001b[39mzeros(meshdata\u001b[39m.\u001b[39mnpoints)\n\u001b[0;32m      <a href='vscode-notebook-cell:/d%3A/RWTH/Sisc/PDE/PE2/PE2.ipynb#X22sZmlsZQ%3D%3D?line=8'>9</a>\u001b[0m     \u001b[39mfor\u001b[39;00m i \u001b[39min\u001b[39;00m \u001b[39mrange\u001b[39m(meshdata\u001b[39m.\u001b[39mnpoints):\n",
      "\u001b[1;31mAttributeError\u001b[0m: 'MeshUtilities' object has no attribute 'npoints'"
     ]
    }
   ],
   "source": [
    "A,f = setEquationSystem(meshOps,paramConst)\n",
    "print(\"After setEqSystem:\")\n",
    "print(A[0:5, 0:5])\n",
    "print(f[0:5])\n",
    "print(\"---\")\n",
    "A,f = setBoundaryValues(meshOps,paramConst,A,f)\n",
    "print(\"After setBoundaryValues\")\n",
    "print(A[0:5, 0:5])\n",
    "print(f[0:5])\n",
    "print(\"---\")\n",
    "print(\"Solution vector u\")\n",
    "u = np.linalg.solve(A,f)\n",
    "print(u[0:5])"
   ]
  },
  {
   "cell_type": "code",
   "execution_count": null,
   "id": "6de56cff-2cd4-4560-a608-d9af9c382853",
   "metadata": {},
   "outputs": [],
   "source": [
    "# Plot solution\n",
    "fig, ax = plt.subplots(subplot_kw={\"projection\":\"3d\"})\n",
    "ax.set_title(\"Solution to $-\\Delta u = 1$ on unitSquare1\")\n",
    "meshOps.plot(ax, u)"
   ]
  },
  {
   "cell_type": "markdown",
   "id": "aea38298-26e0-45e9-94fb-9d7a6ec3f6bc",
   "metadata": {
    "tags": []
   },
   "source": [
    "### Evaluate L2 error"
   ]
  },
  {
   "cell_type": "code",
   "execution_count": null,
   "id": "0f010877-6fe6-4bc0-a002-54295fff1b03",
   "metadata": {},
   "outputs": [],
   "source": [
    "print('num elements:', meshOps.get_triangle_count(), '---',  'L2 error:', '%.2E' % Decimal(meshOps.find_L2_error_via_fourier(u, 1, ϕ_p1)[0]))"
   ]
  },
  {
   "cell_type": "markdown",
   "id": "f64d6e06-5f1a-476d-9d36-4540e94655cc",
   "metadata": {
    "tags": []
   },
   "source": [
    "## 1.(b)"
   ]
  },
  {
   "cell_type": "code",
   "execution_count": null,
   "id": "829a7be5-074c-4a41-b603-8ad9c9bb1e46",
   "metadata": {},
   "outputs": [],
   "source": [
    "meshOps = MeshUtilities('mesh/unitSquare2.msh')\n",
    "print(f\"Number of nodes where Neumann conditions will be enforced: {len(list(filter(lambda x: meshOps.get_line_tag(x)==3, range(meshOps.get_node_count()))))}\")\n",
    "A,f = setEquationSystem(meshOps,paramConst)\n",
    "A,f = setBoundaryValues(meshOps, paramConst, A,f)\n",
    "u = np.linalg.solve(A,f)\n",
    "fig, ax = plt.subplots(subplot_kw={\"projection\":\"3d\"})\n",
    "meshOps.plot(ax, u)\n",
    "ax.set_title(\"Solution to $-\\Delta u = 1$ on unitSquare2\")\n",
    "print('num elements:', meshOps.get_triangle_count(), '---',  'L2 error:', '%.2E' % Decimal(meshOps.find_L2_error_via_fourier(u,paramConst[\"order\"], ϕ_p1)[0]))"
   ]
  },
  {
   "cell_type": "markdown",
   "id": "58ebd7c9-8b80-4b58-be2a-dd69bf622877",
   "metadata": {
    "tags": []
   },
   "source": [
    "## 1.(c)"
   ]
  },
  {
   "cell_type": "code",
   "execution_count": null,
   "id": "68af71b4-8e24-4863-90bc-c9e868438a2e",
   "metadata": {},
   "outputs": [],
   "source": [
    "meshOps = MeshUtilities('mesh/unitSquare2.msh')\n",
    "A,f = setEquationSystem(meshOps,paramSin)\n",
    "A,f = setBoundaryValues(meshOps,paramSin,A,f)\n",
    "u = np.linalg.solve(A,f)\n",
    "print('num elements:', meshOps.get_triangle_count(), '---',  'L2 error:', '%.2E' % Decimal(meshOps.find_L2_error_via_fourier(u,paramSin[\"order\"], ϕ_p1)[0]))\n",
    "fig, ax = plt.subplots(subplot_kw={\"projection\":\"3d\"})\n",
    "meshOps.plot(ax, u)\n",
    "ax.set_title(\"Solution to $-\\Delta u = \\sin 2\\pi x$ on unitSquare2\")"
   ]
  },
  {
   "cell_type": "markdown",
   "id": "7f78e276-bc5c-4d44-ad0e-16c345671aee",
   "metadata": {
    "tags": []
   },
   "source": [
    "# Part 2: Error Evaluation\n",
    "\n",
    "Now, we want to investigate the convergence order under grid refinement.\n",
    "This time, you should implement your own small error evaluation and create a plot of the result. Use the meshes 'mesh64.msh', 'mesh256.msh' and 'mesh1024.msh' with an appropriate set of parameters.\n",
    "Why must $f(x,y)=1$ to obtain the theoretical convergence rate from the lecture?"
   ]
  },
  {
   "cell_type": "code",
   "execution_count": null,
   "id": "1a0618de-8262-401d-abb5-55c575db4539",
   "metadata": {},
   "outputs": [],
   "source": [
    "#TODO"
   ]
  },
  {
   "cell_type": "markdown",
   "id": "aa46845a-edd5-4974-bd68-2130a4b332ac",
   "metadata": {
    "tags": []
   },
   "source": [
    "# Part 3: Investigate behavior of different parameter sets"
   ]
  },
  {
   "cell_type": "markdown",
   "id": "5d2d81f2-5e19-49e3-8fab-db20027c2b81",
   "metadata": {},
   "source": [
    "If you have successfully implemented the above exercise, we can now study how the parameters effect the solution of our problem"
   ]
  },
  {
   "cell_type": "markdown",
   "id": "9b2460fa-18cd-4283-a04c-5e8460608de4",
   "metadata": {},
   "source": [
    "## Generate data"
   ]
  },
  {
   "cell_type": "code",
   "execution_count": null,
   "id": "c4a94ac8-3f01-4dee-9478-15069dde413d",
   "metadata": {},
   "outputs": [],
   "source": [
    "meshOps = MeshUtilities('mesh/mesh1024.msh')\n",
    "paramConstLaplace = [parameters(laplaceCoeff=1.0), parameters(laplaceCoeff=10.0), parameters(laplaceCoeff=100.0)]\n",
    "paramConstNeumann = [parameters(neumannCoeff=0.0), parameters(neumannCoeff=100.0), parameters(neumannCoeff=-5.0)]\n",
    "paramConstDirichlet = [parameters(dirichletValue=0.0), parameters(dirichletValue=1.0), parameters(dirichletValue=2.0)]\n",
    "paramSourceFunction = [parameters(sourceFunc=(lambda x,y: np.sin(2*np.pi*x))), parameters(sourceFunc=(lambda x,y: np.sin(4.4*np.pi*x))), parameters(sourceFunc=(lambda x,y: np.sin(7*np.pi*x)))]"
   ]
  },
  {
   "cell_type": "markdown",
   "id": "b7ec8405-de41-4fd6-8d7e-4f599e9e8190",
   "metadata": {},
   "source": [
    "Next, we build and compute our solution for each set of testcases:"
   ]
  },
  {
   "cell_type": "markdown",
   "id": "bd01ee95-c97c-4ea1-bcd5-c190c63a659b",
   "metadata": {},
   "source": [
    "## Compute Solutions"
   ]
  },
  {
   "cell_type": "code",
   "execution_count": null,
   "id": "6a4beed8-0510-4ecb-a963-37613d19c595",
   "metadata": {},
   "outputs": [],
   "source": [
    "paramList = [paramConstLaplace, paramConstNeumann, paramConstDirichlet, paramSourceFunction]\n",
    "solutionList = []\n",
    "\n",
    "#Compute solutions\n",
    "for paramType in paramList:\n",
    "    for param in paramType:\n",
    "        A,f = setEquationSystem(meshOps,param)\n",
    "        A,f = setBoundaryValues(meshOps,param, A,f)\n",
    "        u = np.linalg.solve(A,f)\n",
    "        solutionList.append(u)"
   ]
  },
  {
   "cell_type": "markdown",
   "id": "23f49bdd-5cca-45b3-8594-f6cbf5264f76",
   "metadata": {},
   "source": [
    "## Reshape Data"
   ]
  },
  {
   "cell_type": "code",
   "execution_count": null,
   "id": "7215250b-818a-4762-865a-9c5cce50664b",
   "metadata": {},
   "outputs": [],
   "source": [
    "solutionList = np.array(solutionList)\n",
    "#reformat so it can be plotted easily\n",
    "paramList = np.array(paramList).reshape((4,3))\n",
    "solutionList =  solutionList.reshape((4,3, solutionList.shape[1]))"
   ]
  },
  {
   "cell_type": "markdown",
   "id": "a126fa9c-8fff-4377-a047-ddeb0d9f0d02",
   "metadata": {},
   "source": [
    "## Plot Data"
   ]
  },
  {
   "cell_type": "code",
   "execution_count": null,
   "id": "7c6cedb4-e83d-4600-80fc-bff6527fbbcb",
   "metadata": {},
   "outputs": [],
   "source": [
    "fig = plt.figure()\n",
    "fig.set_dpi(200)\n",
    "\n",
    "for i in np.arange(0, 4):\n",
    "    for j in np.arange(0,3):\n",
    "        ax = fig.add_subplot(4,3,3*i+j+1, projection='3d')\n",
    "        meshOps.plot(ax, solutionList[i,j,:])\n",
    "        ax.tick_params(axis='both', which='major', labelsize=5)\n",
    "        ax.xaxis.set_major_locator(ticker.MaxNLocator(2)) \n",
    "        ax.yaxis.set_major_locator(ticker.MaxNLocator(2)) \n",
    "        ax.zaxis.set_major_locator(ticker.MaxNLocator(2)) \n",
    "        \n",
    "fig.axes[0].set_title('$c = 1$', fontsize=6)\n",
    "fig.axes[1].set_title('$c = 10$', fontsize=6)\n",
    "fig.axes[2].set_title('$c = 100$', fontsize=6)\n",
    "fig.axes[3].set_title('$n = 0$', fontsize=6)\n",
    "fig.axes[4].set_title('$n = 100$', fontsize=6)\n",
    "fig.axes[5].set_title('$n = -5$', fontsize=6)\n",
    "fig.axes[6].set_title('$g = 0$', fontsize=6)\n",
    "fig.axes[7].set_title('$g = 1$', fontsize=6)\n",
    "fig.axes[8].set_title('$g = 2$', fontsize=6)\n",
    "fig.axes[9].set_title('$f = \\sin(2 \\pi x)$', fontsize=6)\n",
    "fig.axes[10].set_title('$f = \\sin(4.4 \\pi x)$', fontsize=6)\n",
    "fig.axes[11].set_title('$f = \\sin(7 \\pi x)$', fontsize=6)\n",
    "        \n",
    "    \n",
    "plt.tight_layout()\n",
    "plt.show()"
   ]
  },
  {
   "cell_type": "markdown",
   "id": "f59ec204-bd8b-484e-b0b4-dc9e46c7f76c",
   "metadata": {
    "tags": []
   },
   "source": [
    "# Part 4: Higher Order Methods"
   ]
  },
  {
   "cell_type": "markdown",
   "id": "c626e425-ab20-4b09-8202-78b1333ef3da",
   "metadata": {},
   "source": [
    "If you want to implement higher order methods, we suggest to start with second order triangular meshes, since a sample mesh already exists."
   ]
  },
  {
   "cell_type": "markdown",
   "id": "a7fd734e-a6d4-41bc-b22e-47db027df6ed",
   "metadata": {},
   "source": [
    "## Compute 2nd order case"
   ]
  },
  {
   "cell_type": "markdown",
   "id": "5000de0c-1066-49f8-ae1a-0a473ccdb26a",
   "metadata": {},
   "source": [
    "Here are some reference results for $A[0:7, 0:7]$, $f[0:7]$ and $u[0:7]$. Your own results might differ slightly due to numerical inaccuracies.\n",
    "\n",
    "**After setEqSystem**\n",
    "\n",
    "$$\n",
    "A = \\left(\\begin{array}{ccccccc} \n",
    "0.83755438 & 0. & 0. & 0. & 0. & 0. & 0.        \\\\\n",
    "0. & 0.83772945 & 0. & 0. & 0.08882995 & 0. & 0.        \\\\\n",
    "0. & 0. & 0.83718431 & 0. & 0. & 0. & 0.08829373 \\\\\n",
    "0. & 0. & 0. & 0.83748811 & 0. & 0. & 0.        \\\\\n",
    "0. & 0.08882995 & 0. & 0. & 1.79224013 & 0.0518264 & 0.        \\\\\n",
    "0. & 0. & 0. & 0. & 0.0518264 & 1.79986589 & 0.05147507 \\\\\n",
    "0. & 0. & 0.08829373 & 0. & 0. & 0.05147507 & 1.79186399\n",
    "\\end{array}\\right)\n",
    "$$\n",
    "\n",
    "$$\n",
    "f =\\left(\\begin{array}{c} \n",
    "-8.13151629e-19 &\n",
    "-1.84314369e-18 & \n",
    "-5.42101086e-19 & \n",
    "-1.73472348e-18 & \n",
    "-2.24971951e-18 & \n",
    "-1.84314369e-18 & \n",
    "-2.14129929e-18 \n",
    "\\end{array}\\right)^T\n",
    "$$\n",
    "\n",
    "**After setBoundaryValues**\n",
    "\n",
    "$$\n",
    "A = \\left(\\begin{array}{ccccccc} \n",
    "1. & 0. & 0. & 0. & 0. & 0. & 0.        \\\\\n",
    "0. & 1. & 0. & 0. & 0. & 0. & 0.        \\\\\n",
    "0. & 0. & 1. & 0. & 0. & 0. & 0.        \\\\\n",
    "0. & 0. & 0. & 1. & 0. & 0. & 0.        \\\\\n",
    "0. & 0.08882995 & 0. & 0. & 1.79224013 & 0.0518264 & 0.        \\\\\n",
    "0. & 0. & 0. & 0. & 0.0518264 & 1.79986589 & 0.05147507\\\\\n",
    "0. & 0. & 0.08829373 & 0. & 0. & 0.05147507 & 1.79186399\n",
    "\\end{array}\\right)\n",
    "$$\n",
    "\n",
    "$$\n",
    "f=\\left(\\begin{array}{c} \n",
    " 0.00000000e+00 & \n",
    " 0.00000000e+00 & \n",
    " 0.00000000e+00 & \n",
    " 0.00000000e+00 & \n",
    "-2.24971951e-18 & \n",
    "-1.84314369e-18 & \n",
    "-2.14129929e-18\n",
    "\\end{array}\\right)^T\n",
    "$$\n",
    "\n",
    "**Solution** \n",
    "\n",
    "$$\n",
    "u = \\left(\\begin{array}{ccccccc} \n",
    " 3.46157019e-30 &\n",
    " 0.00000000e+00 &\n",
    "-5.34762849e-19 &\n",
    " 1.75859624e-18 &\n",
    " 5.18385722e-03 &\n",
    " 8.90043718e-03 &\n",
    " 1.15770075e-02 \n",
    "\\end{array}\\right)^T\n",
    "$$"
   ]
  },
  {
   "cell_type": "code",
   "execution_count": null,
   "id": "309309e3-8b4e-40f1-882c-91e98d7987c7",
   "metadata": {},
   "outputs": [],
   "source": [
    "meshOps_2nd = MeshUtilities('mesh/unitSquare2ndOrder.msh')"
   ]
  },
  {
   "cell_type": "code",
   "execution_count": null,
   "id": "6eb8bf5d-6c95-4b92-8f7c-dcd43006d710",
   "metadata": {},
   "outputs": [],
   "source": [
    "A,f = setEquationSystem(meshOps_2nd,paramConst2Order)\n",
    "print(\"After setEqSystem:\")\n",
    "print(A[0:7, 0:7])\n",
    "print(f[0:7])\n",
    "print(\"---\")\n",
    "\n",
    "A,f = setBoundaryValues(meshOps_2nd,paramConst2Order,A,f)\n",
    "print(\"After setBoundaryValues\")\n",
    "print(A[0:7, 0:7])\n",
    "print(f[0:7])\n",
    "print(\"---\")\n",
    "\n",
    "print(\"Solution vector u\")\n",
    "u_2nd = np.linalg.solve(A,f)\n",
    "print(u[0:7])"
   ]
  },
  {
   "cell_type": "markdown",
   "id": "6c0a6f30-5350-4d10-8b8f-2e870214102e",
   "metadata": {},
   "source": [
    "## Compute 1st order case"
   ]
  },
  {
   "cell_type": "code",
   "execution_count": null,
   "id": "7b2ce050-2c1e-483b-87da-f24ab7b67da8",
   "metadata": {},
   "outputs": [],
   "source": [
    "meshOps_1st = MeshUtilities('mesh/mesh64.msh')"
   ]
  },
  {
   "cell_type": "code",
   "execution_count": null,
   "id": "ef72a354-6579-40a1-a15a-23bf696d34d5",
   "metadata": {},
   "outputs": [],
   "source": [
    "A,f = setEquationSystem(meshOps_1st,paramConst)\n",
    "A,f = setBoundaryValues(meshOps_1st,paramConst, A,f)\n",
    "u_1st = np.linalg.solve(A,f)"
   ]
  },
  {
   "cell_type": "markdown",
   "id": "90047c40-fac7-44d3-85d8-3b07310b2a35",
   "metadata": {},
   "source": [
    "## Plotting"
   ]
  },
  {
   "cell_type": "code",
   "execution_count": null,
   "id": "a0e9ed57-e647-4304-9c60-f4d515d5f907",
   "metadata": {},
   "outputs": [],
   "source": [
    "fig = plt.figure()\n",
    "fig.tight_layout()\n",
    "#fig.set_dpi(200)\n",
    "\n",
    "ax = fig.add_subplot(1,2,1, projection='3d')\n",
    "meshOps_1st.plot(ax, u_1st)\n",
    "ax = fig.add_subplot(1,2,2, projection='3d')\n",
    "meshOps_2nd.plot(ax, u_2nd)\n",
    "fig.axes[0].set_title('using $P_1$ elements')\n",
    "_ = fig.axes[1].set_title('using $P_2$ elements')\n"
   ]
  },
  {
   "cell_type": "markdown",
   "id": "51b9fb69-c60a-4efd-98c6-8e34dbd31deb",
   "metadata": {
    "tags": []
   },
   "source": [
    "# Part 5: Beyond Triangular Meshes"
   ]
  },
  {
   "cell_type": "markdown",
   "id": "06138094-4780-420d-a6fd-7ce16283be81",
   "metadata": {},
   "source": [
    "If you want to go beyond triangular meshes, you will need to carefully adapt the file 'MeshOperations.py'. Only the \n",
    "- load_gmsh(...)\n",
    "\n",
    "function is complete. You also need to generate an appropriate mesh. \n",
    "You may want to the following two resources\n",
    "- http://www.manpagez.com/info/gmsh/gmsh-2.2.6/gmsh_63.php\n",
    "- https://gmsh.info/doc/texinfo/gmsh.html#MSH-file-format\n",
    "\n",
    "as well as have a look at the provided triangular meshes."
   ]
  },
  {
   "cell_type": "code",
   "execution_count": null,
   "id": "bd8743c2-f573-496b-a07b-fd042e8000e7",
   "metadata": {},
   "outputs": [],
   "source": [
    "# TODO"
   ]
  }
 ],
 "metadata": {
  "kernelspec": {
   "display_name": "Python 3",
   "language": "python",
   "name": "python3"
  },
  "language_info": {
   "codemirror_mode": {
    "name": "ipython",
    "version": 3
   },
   "file_extension": ".py",
   "mimetype": "text/x-python",
   "name": "python",
   "nbconvert_exporter": "python",
   "pygments_lexer": "ipython3",
   "version": "3.11.6"
  }
 },
 "nbformat": 4,
 "nbformat_minor": 5
}
